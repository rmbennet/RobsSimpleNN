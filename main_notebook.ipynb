{
 "cells": [
  {
   "cell_type": "code",
   "execution_count": null,
   "metadata": {},
   "outputs": [],
   "source": [
    "#Import necessary packages:\n",
    "import numpy as np\n",
    "from NN import layers\n",
    "\n",
    "#Import the data: AND EXAMPLE:\n",
    "#stored separately and imported here\n",
    "# as a matrix of X and a *column vector* for the y's\n",
    "import NN.data as data\n",
    "\n",
    "#Wait for this stuff: not ready:\n",
    "from NN.loss_function import BCE\n",
    "\n",
    "\n",
    "#plot the loss function:\n",
    "import matplotlib.pyplot as plt"
   ]
  },
  {
   "cell_type": "markdown",
   "metadata": {},
   "source": [
    "### Define:\n",
    "\n",
    " - the training data, first using the `AND` case\n",
    " - the `learning_rate`\n",
    " - the `Linear` layer:\n",
    " - the classification threshold probability (if $0.50<p\\leq 1$, then the model returns `TRUE`)"
   ]
  },
  {
   "cell_type": "code",
   "execution_count": null,
   "metadata": {},
   "outputs": [],
   "source": [
    "X_train , y_train = data.split_data(data.d['AND'])\n",
    "lr=0.01\n",
    "linear_layer = layers.Linear(num_features=X_train.shape[1], num_neurons=1)\n",
    "threshold = 0.5"
   ]
  },
  {
   "cell_type": "markdown",
   "metadata": {},
   "source": [
    "### 1) Input data `X_train` to linear layer:"
   ]
  },
  {
   "cell_type": "code",
   "execution_count": null,
   "metadata": {},
   "outputs": [],
   "source": [
    "output = linear_layer.forward(X_train)\n",
    "output"
   ]
  },
  {
   "cell_type": "markdown",
   "metadata": {},
   "source": [
    "### 1a) Make some predictions.  At first pass through the neural network, these are not meaningful because we haven't made any effort to decrease the loss function."
   ]
  },
  {
   "cell_type": "code",
   "execution_count": null,
   "metadata": {},
   "outputs": [],
   "source": [
    "#\"predictions\"\n",
    "#assumed to be meaningless at first pass:\n",
    "output>threshold"
   ]
  },
  {
   "cell_type": "code",
   "execution_count": null,
   "metadata": {},
   "outputs": [],
   "source": [
    "#actuals\n",
    "y_train!= 0"
   ]
  },
  {
   "cell_type": "markdown",
   "metadata": {},
   "source": [
    "### 2) Compute the Binary Cross Entropy Loss:"
   ]
  },
  {
   "cell_type": "code",
   "execution_count": null,
   "metadata": {},
   "outputs": [],
   "source": [
    "loss = BCE(y_true=y_train , y_pred = output)\n",
    "loss"
   ]
  },
  {
   "cell_type": "markdown",
   "metadata": {},
   "source": [
    "### 3) Compute Gradients\n",
    "\n",
    " - The derivations of these gradients is completed in the readme"
   ]
  },
  {
   "cell_type": "code",
   "execution_count": null,
   "metadata": {},
   "outputs": [],
   "source": [
    "d_output = output - y_train\n",
    "dz = d_output * (output) * (1-output)\n",
    "d_weights = np.dot(X_train.T, dz).T\n",
    "d_bias = np.mean(dz , axis= 0)"
   ]
  },
  {
   "cell_type": "markdown",
   "metadata": {},
   "source": [
    "### 4) Update the weights:"
   ]
  },
  {
   "cell_type": "code",
   "execution_count": null,
   "metadata": {},
   "outputs": [],
   "source": [
    "linear_layer.weights -= lr*d_weights\n",
    "linear_layer.bias -= lr*d_bias"
   ]
  },
  {
   "cell_type": "markdown",
   "metadata": {},
   "source": [
    "### 5) Repeat Steps 1 through 4 a large number of times.  Take note of how the loss function progresses and what happens to prediction accuracy after training is complete:"
   ]
  },
  {
   "cell_type": "code",
   "execution_count": null,
   "metadata": {},
   "outputs": [],
   "source": [
    "plot_data = []\n",
    "\n",
    "\n",
    "for epoch in range(100000):\n",
    "    #STEP 1:\n",
    "    output = linear_layer.forward(X_train)\n",
    "    \n",
    "    #STEP 2:\n",
    "    loss = BCE(y_true=y_train , y_pred = output)\n",
    "    \n",
    "    #STEP 3:\n",
    "    d_output = output - y_train\n",
    "    dz = d_output * (output) * (1-output)\n",
    "    d_weights = np.dot(X_train.T, dz).T\n",
    "    d_bias = np.mean(dz , axis= 0)\n",
    "    \n",
    "    #STEP 4:\n",
    "\n",
    "    linear_layer.weights -= lr*d_weights\n",
    "    linear_layer.bias -= lr*d_bias\n",
    "\n",
    "    #Give periodic updates on the loss function:\n",
    "    plot_data.append((epoch,loss))\n",
    "    if epoch % 10000 == 0:\n",
    "        print(f\"Epoch {epoch}, Loss: {loss:.4f}\")\n",
    "        #weights gradient apppears to be getting stuck\n",
    "        #print(f'd_weights at epoch {epoch}: {d_weights}')"
   ]
  },
  {
   "cell_type": "markdown",
   "metadata": {},
   "source": [
    "### Plot the results of the loss function.  We want to see it decreasing monotonically."
   ]
  },
  {
   "cell_type": "code",
   "execution_count": 28,
   "metadata": {},
   "outputs": [
    {
     "data": {
      "image/png": "[encoded data removed]",
      "text/plain": [
       "<Figure size 640x480 with 1 Axes>"
      ]
     },
     "metadata": {},
     "output_type": "display_data"
    }
   ],
   "source": [
    "plt.scatter(*zip(*plot_data))\n",
    "plt.title(\"Loss Function's value at each training iteration\")\n",
    "plt.xlabel('Epoch')\n",
    "plt.ylabel('Loss Function Value');"
   ]
  },
  {
   "cell_type": "code",
   "execution_count": 29,
   "metadata": {},
   "outputs": [
    {
     "data": {
      "text/plain": [
       "array([[False],\n",
       "       [False],\n",
       "       [False],\n",
       "       [ True]])"
      ]
     },
     "execution_count": 29,
     "metadata": {},
     "output_type": "execute_result"
    }
   ],
   "source": [
    "output>threshold"
   ]
  },
  {
   "cell_type": "code",
   "execution_count": 30,
   "metadata": {},
   "outputs": [
    {
     "data": {
      "text/plain": [
       "array([[False],\n",
       "       [False],\n",
       "       [False],\n",
       "       [ True]])"
      ]
     },
     "execution_count": 30,
     "metadata": {},
     "output_type": "execute_result"
    }
   ],
   "source": [
    "y_train!=0"
   ]
  },
  {
   "cell_type": "markdown",
   "metadata": {},
   "source": [
    "This is nice!  The loss function decreases monotonically and the network has learned the `AND` operator with 100% accuracy.  Of course, training this many times is probably unnecessary.  We could improve efficiency and do further analysis to estimate the minimum number of epochs to train the model correctly."
   ]
  }
 ],
 "metadata": {
  "kernelspec": {
   "display_name": "base",
   "language": "python",
   "name": "python3"
  },
  "language_info": {
   "codemirror_mode": {
    "name": "ipython",
    "version": 3
   },
   "file_extension": ".py",
   "mimetype": "text/x-python",
   "name": "python",
   "nbconvert_exporter": "python",
   "pygments_lexer": "ipython3",
   "version": "3.10.13"
  }
 },
 "nbformat": 4,
 "nbformat_minor": 2
}
