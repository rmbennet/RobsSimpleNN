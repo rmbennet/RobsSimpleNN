{
 "cells": [
  {
   "cell_type": "code",
   "execution_count": 12,
   "metadata": {},
   "outputs": [],
   "source": [
    "#Import necessary packages:\n",
    "import numpy as np\n",
    "from NN import layers\n",
    "\n",
    "#Import the data: AND EXAMPLE:\n",
    "#stored separately and imported here\n",
    "# as a matrix of X and a *column vector* for the y's\n",
    "import NN.data as data\n",
    "\n",
    "#Wait for this stuff: not ready:\n",
    "from NN.metrics import BCE, accuracy\n",
    "\n",
    "\n",
    "#plot the loss function:\n",
    "import matplotlib.pyplot as plt"
   ]
  },
  {
   "cell_type": "markdown",
   "metadata": {},
   "source": [
    "### Define:\n",
    "\n",
    " - the training data, first using the `AND` case\n",
    " - the `learning_rate`\n",
    " - the `Linear` layer:\n",
    " - the classification threshold probability (if $0.50<p\\leq 1$, then the model returns `TRUE`)"
   ]
  },
  {
   "cell_type": "code",
   "execution_count": 13,
   "metadata": {},
   "outputs": [],
   "source": [
    "X_train , y_train = data.split_data(data.d['AND'])\n",
    "lr=0.01\n",
    "linear_layer = layers.Linear(num_features=X_train.shape[1], num_neurons=1)\n",
    "threshold = 0.5"
   ]
  },
  {
   "cell_type": "markdown",
   "metadata": {},
   "source": [
    "### 1) Input data `X_train` to linear layer:"
   ]
  },
  {
   "cell_type": "code",
   "execution_count": 14,
   "metadata": {},
   "outputs": [
    {
     "data": {
      "text/plain": [
       "array([[0.51889972],\n",
       "       [0.5986372 ],\n",
       "       [0.60868774],\n",
       "       [0.68264514]])"
      ]
     },
     "execution_count": 14,
     "metadata": {},
     "output_type": "execute_result"
    }
   ],
   "source": [
    "output = linear_layer.forward(X_train)\n",
    "output"
   ]
  },
  {
   "cell_type": "markdown",
   "metadata": {},
   "source": [
    "### 1a) Make some predictions.  At first pass through the neural network, these are not meaningful because we haven't made any effort to decrease the loss function."
   ]
  },
  {
   "cell_type": "code",
   "execution_count": 15,
   "metadata": {},
   "outputs": [
    {
     "data": {
      "text/plain": [
       "array([[ True],\n",
       "       [ True],\n",
       "       [ True],\n",
       "       [ True]])"
      ]
     },
     "execution_count": 15,
     "metadata": {},
     "output_type": "execute_result"
    }
   ],
   "source": [
    "#\"predictions\"\n",
    "#assumed to be meaningless at first pass:\n",
    "output>threshold"
   ]
  },
  {
   "cell_type": "code",
   "execution_count": 16,
   "metadata": {},
   "outputs": [
    {
     "data": {
      "text/plain": [
       "array([[False],\n",
       "       [False],\n",
       "       [False],\n",
       "       [ True]])"
      ]
     },
     "execution_count": 16,
     "metadata": {},
     "output_type": "execute_result"
    }
   ],
   "source": [
    "#actuals\n",
    "y_train!= 0"
   ]
  },
  {
   "cell_type": "markdown",
   "metadata": {},
   "source": [
    "### 2) Compute the Binary Cross Entropy Loss:"
   ]
  },
  {
   "cell_type": "code",
   "execution_count": 17,
   "metadata": {},
   "outputs": [
    {
     "data": {
      "text/plain": [
       "0.7411496535985953"
      ]
     },
     "execution_count": 17,
     "metadata": {},
     "output_type": "execute_result"
    }
   ],
   "source": [
    "loss = BCE(y_true=y_train , y_pred = output)\n",
    "loss"
   ]
  },
  {
   "cell_type": "markdown",
   "metadata": {},
   "source": [
    "### 3) Compute Gradients\n",
    "\n",
    " - The derivations of these gradients is completed in the readme"
   ]
  },
  {
   "cell_type": "code",
   "execution_count": 18,
   "metadata": {},
   "outputs": [],
   "source": [
    "d_output = output - y_train\n",
    "dz = d_output * (output) * (1-output)\n",
    "d_weights = np.dot(X_train.T, dz).T\n",
    "d_bias = np.mean(dz , axis= 0)"
   ]
  },
  {
   "cell_type": "markdown",
   "metadata": {},
   "source": [
    "### 4) Update the weights:"
   ]
  },
  {
   "cell_type": "code",
   "execution_count": 19,
   "metadata": {},
   "outputs": [],
   "source": [
    "linear_layer.weights -= lr*d_weights\n",
    "linear_layer.bias -= lr*d_bias"
   ]
  },
  {
   "cell_type": "markdown",
   "metadata": {},
   "source": [
    "### 5) Repeat Steps 1 through 4 a large number of times.  Take note of how the loss function progresses and what happens to prediction accuracy after training is complete:"
   ]
  },
  {
   "cell_type": "code",
   "execution_count": 20,
   "metadata": {},
   "outputs": [
    {
     "name": "stdout",
     "output_type": "stream",
     "text": [
      "Epoch 0, Loss: 0.7407\n",
      "Epoch 10000, Loss: 0.2880\n",
      "Epoch 20000, Loss: 0.2038\n",
      "Epoch 30000, Loss: 0.1626\n",
      "Epoch 40000, Loss: 0.1375\n",
      "Epoch 50000, Loss: 0.1205\n",
      "Epoch 60000, Loss: 0.1081\n",
      "Epoch 70000, Loss: 0.0985\n",
      "Epoch 80000, Loss: 0.0910\n",
      "Epoch 90000, Loss: 0.0848\n"
     ]
    },
    {
     "name": "stderr",
     "output_type": "stream",
     "text": [
      "/var/folders/m_/rctgptd96hld2b0lr9gqrd5c0000gn/T/ipykernel_12935/3428969313.py:29: DeprecationWarning: Calling nonzero on 0d arrays is deprecated, as it behaves surprisingly. Use `atleast_1d(cond).nonzero()` if the old behavior was intended. If the context of this warning is of the form `arr[nonzero(cond)]`, just use `arr[cond]`.\n",
      "  indices = np.where(accuracy == 1)[0]  # Get indices where accuracy == 1\n"
     ]
    }
   ],
   "source": [
    "\n",
    "\n",
    "\n",
    "\n",
    "num_epochs = 100000 \n",
    "plot_data = np.zeros((3,num_epochs))\n",
    "#first row: epoch number\n",
    "plot_data[0,:] = np.array(range(num_epochs))\n",
    "#second row: loss\n",
    "#third row: accuracy\n",
    "for epoch in range(num_epochs):\n",
    "    #STEP 1:\n",
    "    output = linear_layer.forward(X_train)\n",
    "    #STEP 2:\n",
    "    loss = BCE(y_true=y_train , y_pred = output)\n",
    "    #STEP 3:\n",
    "    d_output = output - y_train\n",
    "    dz = d_output * (output) * (1-output)\n",
    "    d_weights = np.dot(X_train.T, dz).T\n",
    "    d_bias = np.mean(dz , axis= 0)\n",
    "    #STEP 4:\n",
    "    linear_layer.weights -= lr*d_weights\n",
    "    linear_layer.bias -= lr*d_bias\n",
    "    #Append plot data:\n",
    "    plot_data[1,epoch]  =   loss\n",
    "    plot_data[2,epoch]  =   accuracy(y_true=y_train , y_pred = output>threshold)\n",
    "    #Give periodic updates on the loss function:\n",
    "    if epoch % 10000 == 0:\n",
    "        print(f\"Epoch {epoch}, Loss: {loss:.4f}\")\n",
    "        #weights gradient apppears to be getting stuck\n",
    "        #print(f'd_weights at epoch {epoch}: {d_weights}')\n",
    "#how many epochs reuiqred for perfect training accuracy?\n",
    "indices = np.where(accuracy == 1)[0]  # Get indices where accuracy == 1\n",
    "first_index = indices[0] if indices.size > 0 else None  # Get first occurrence safely\n"
   ]
  },
  {
   "cell_type": "markdown",
   "metadata": {},
   "source": [
    "### Plot the results of the loss function.  We want to see it decreasing monotonically."
   ]
  },
  {
   "cell_type": "code",
   "execution_count": 21,
   "metadata": {},
   "outputs": [
    {
     "data": {
      "image/png": "[encoded data removed]",
      "text/plain": [
       "<Figure size 1000x600 with 2 Axes>"
      ]
     },
     "metadata": {},
     "output_type": "display_data"
    }
   ],
   "source": [
    "#prepare the plot data:\n",
    "epochs , loss , accuracy = plot_data\n",
    "\n",
    "# Create the plot\n",
    "fig, ax1 = plt.subplots(figsize=(10, 6))\n",
    "\n",
    "# Plot loss on the primary y-axis (left)\n",
    "color = 'tab:red'\n",
    "ax1.set_xlabel('Epoch')\n",
    "ax1.set_ylabel('Loss', color=color)\n",
    "ax1.plot(epochs, loss, color=color, label='Loss')\n",
    "ax1.tick_params(axis='y', labelcolor=color)\n",
    "\n",
    "# Create a secondary y-axis for accuracy\n",
    "ax2 = ax1.twinx()  \n",
    "color = 'tab:blue'\n",
    "ax2.set_ylabel('Accuracy', color=color)  \n",
    "ax2.plot(epochs, accuracy, color=color, label='Accuracy')\n",
    "ax2.tick_params(axis='y', labelcolor=color)\n",
    "\n",
    "# Optional: add a title and grid\n",
    "plt.title('Loss and Accuracy per Epoch')\n",
    "fig.tight_layout()  # Adjust layout to prevent clipping of ylabel\n",
    "\n",
    "# Show the plot\n",
    "plt.show()"
   ]
  },
  {
   "cell_type": "code",
   "execution_count": 22,
   "metadata": {},
   "outputs": [
    {
     "name": "stdout",
     "output_type": "stream",
     "text": [
      "This try: 390 epochs to get 100% training accuracy\n"
     ]
    }
   ],
   "source": [
    "try:\n",
    "    print(f'This try: {np.min(np.where(accuracy==1)) + 1} epochs to get 100% training accuracy')\n",
    "except ValueError:\n",
    "    print(f'100% training accuracy not achieved in {num_epochs} epochs')"
   ]
  },
  {
   "cell_type": "markdown",
   "metadata": {},
   "source": [
    "The loss function decreases monotonically and the network has learned the `AND` operator with 100% accuracy.  We can see above that even though the loss function continues to decrease, it doesn't really improve predictive power.\n",
    "\n",
    "We still require a lot of computation to observe perfect accuracy here.  It takes between 850-900 epochs before the first instance of 100 percent accuracy: and this is one of the simplest concepts a neural network could learn!"
   ]
  }
 ],
 "metadata": {
  "kernelspec": {
   "display_name": "base",
   "language": "python",
   "name": "python3"
  },
  "language_info": {
   "codemirror_mode": {
    "name": "ipython",
    "version": 3
   },
   "file_extension": ".py",
   "mimetype": "text/x-python",
   "name": "python",
   "nbconvert_exporter": "python",
   "pygments_lexer": "ipython3",
   "version": "3.10.13"
  }
 },
 "nbformat": 4,
 "nbformat_minor": 2
}
